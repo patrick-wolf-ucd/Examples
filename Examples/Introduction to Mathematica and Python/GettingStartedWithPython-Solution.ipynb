{
 "cells": [
  {
   "cell_type": "markdown",
   "metadata": {},
   "source": [
    "# Getting started with Python\n",
    "\n",
    "This notebook will introduce you to the basics of Python as a programming language, with a particular focus on aspects that will be relevant to the parts of machine learning we will study in this module. You can find more extensive examples relevant to computational science in Niels Warburton's [ACM20030-Examples](https://github.com/nielsw2/ACM20030-Examples) repository.\n",
    "\n",
    "## Jupyter notebooks\n",
    "\n",
    "Jupyter notebooks such as this one provide an interactive way of working with Python, much like the notebook interface provided by the Mathematica front end. We can intersperse Python code with text descriptions, output and even graphics and plots.\n",
    "\n",
    "### Hello World\n",
    "\n",
    "To get started we will issue our first command. Place the cursor in the line below and use Shift+Return to execute it. The result returned will be printed on the following line."
   ]
  },
  {
   "cell_type": "code",
   "execution_count": null,
   "metadata": {},
   "outputs": [],
   "source": [
    "1+1"
   ]
  },
  {
   "cell_type": "markdown",
   "metadata": {},
   "source": [
    "Notice that input the line is labeled with In[1] and the output line is labeled with Out[1]. Notebooks are divided into Cells of different types. Possible types include Code and Markdown. You can change the type of a cell in the Cell -> Cell Type menu at the top of the window."
   ]
  },
  {
   "cell_type": "markdown",
   "metadata": {},
   "source": [
    "### Inserting new lines\n",
    "\n",
    "To insert a new cell anywhere, just click on an existing cell then type \"A\" to insert a cell before or \"B\" to insert one after the current cell. Try adding a new cell after this one."
   ]
  },
  {
   "cell_type": "code",
   "execution_count": null,
   "metadata": {},
   "outputs": [],
   "source": [
    "3+3"
   ]
  },
  {
   "cell_type": "markdown",
   "metadata": {},
   "source": [
    "To delete a cell, select it press \"D\" twice. Try deleting the new cell you created in the last step."
   ]
  },
  {
   "cell_type": "markdown",
   "metadata": {},
   "source": [
    "## The Basics"
   ]
  },
  {
   "cell_type": "markdown",
   "metadata": {},
   "source": [
    "### Variables\n",
    "\n",
    "To assign a value to a variable, we can use a single = sign. Let's start by inserting a new line and using it to set \"a\" to have the value \"100\"."
   ]
  },
  {
   "cell_type": "code",
   "execution_count": null,
   "metadata": {},
   "outputs": [],
   "source": [
    "a = 100"
   ]
  },
  {
   "cell_type": "markdown",
   "metadata": {},
   "source": [
    "We can output the value of a variable by running an code cell with the name of the variable in it. Try it."
   ]
  },
  {
   "cell_type": "code",
   "execution_count": null,
   "metadata": {},
   "outputs": [],
   "source": [
    "a"
   ]
  },
  {
   "cell_type": "markdown",
   "metadata": {},
   "source": [
    "### Mathematical operations\n",
    "\n",
    "We can perform the standard Mathematical operations using the operators +, -, *, /, ** and (). Try doing some calculations using these operators."
   ]
  },
  {
   "cell_type": "code",
   "execution_count": null,
   "metadata": {},
   "outputs": [],
   "source": [
    "(1 + 2*(3 + 4) - 7)**2/11"
   ]
  },
  {
   "cell_type": "markdown",
   "metadata": {},
   "source": [
    "Notice that (in contrast to Mathematica) rationals are by default converted to approximate floating point numbers."
   ]
  },
  {
   "cell_type": "markdown",
   "metadata": {},
   "source": [
    "Note that sometimes we have to be careful about the order of operations. Python follows the standard mathematical precedence rules that we learn in school (BOMDAS)."
   ]
  },
  {
   "cell_type": "markdown",
   "metadata": {},
   "source": [
    "### Functions\n",
    "\n",
    "In Python, parenthesis is used for functions. Functions with multiple arguments have their arguments separated by a comma. Here are a few examples (we first load the math and cmath modules to provide some mathematical functions):"
   ]
  },
  {
   "cell_type": "code",
   "execution_count": null,
   "metadata": {},
   "outputs": [],
   "source": [
    "import math, cmath"
   ]
  },
  {
   "cell_type": "code",
   "execution_count": null,
   "metadata": {},
   "outputs": [],
   "source": [
    "math.sqrt(4)"
   ]
  },
  {
   "cell_type": "code",
   "execution_count": null,
   "metadata": {},
   "outputs": [],
   "source": [
    "math.sin(math.pi)"
   ]
  },
  {
   "cell_type": "code",
   "execution_count": null,
   "metadata": {},
   "outputs": [],
   "source": [
    "math.cos(math.pi)"
   ]
  },
  {
   "cell_type": "code",
   "execution_count": null,
   "metadata": {},
   "outputs": [],
   "source": [
    "cmath.exp(complex(0,cmath.pi))"
   ]
  },
  {
   "cell_type": "markdown",
   "metadata": {},
   "source": [
    "### Defining functions\n",
    "\n",
    "We define a function in Python by writing \"def\", then the name of the function, then parenthesis brackets with the names of the arguments inside, then \":\" and finally the definition of the function on the subsequent lines (all of which should be indented). We return a value from a function using \"return\". Let's look at an example:"
   ]
  },
  {
   "cell_type": "code",
   "execution_count": null,
   "metadata": {},
   "outputs": [],
   "source": [
    "def f(x, y, z):\n",
    "    result = x**2 + 2*x*y-z**7\n",
    "    return result"
   ]
  },
  {
   "cell_type": "code",
   "execution_count": null,
   "metadata": {},
   "outputs": [],
   "source": [
    "f(3,2,1)"
   ]
  },
  {
   "cell_type": "markdown",
   "metadata": {},
   "source": [
    "Try defining a function $g(x,y)=(x^2+y^2)^{1/2}$ and evaluate it for different values of x and y."
   ]
  },
  {
   "cell_type": "code",
   "execution_count": null,
   "metadata": {},
   "outputs": [],
   "source": [
    "def g(x, y):\n",
    "    result = math.sqrt(x**2 + y**2)\n",
    "    return result"
   ]
  },
  {
   "cell_type": "code",
   "execution_count": null,
   "metadata": {},
   "outputs": [],
   "source": [
    "g(1,2)"
   ]
  },
  {
   "cell_type": "markdown",
   "metadata": {},
   "source": [
    "### Arrays\n",
    "\n",
    "When defining arrays for numeric purposes (as we will do throughout this module) we will use numpy. Then, to define arrays we use square brackets []. For example, let us define a vector (one-dimensional array), a matrix (two dimensions) and a rank-3 \"tensor\". First, we have to import numpy."
   ]
  },
  {
   "cell_type": "code",
   "execution_count": null,
   "metadata": {},
   "outputs": [],
   "source": [
    "import numpy as np"
   ]
  },
  {
   "cell_type": "code",
   "execution_count": null,
   "metadata": {},
   "outputs": [],
   "source": [
    "v = np.array([4,7])"
   ]
  },
  {
   "cell_type": "code",
   "execution_count": null,
   "metadata": {},
   "outputs": [],
   "source": [
    "A = np.array([[3,6],[2,7]])"
   ]
  },
  {
   "cell_type": "code",
   "execution_count": null,
   "metadata": {},
   "outputs": [],
   "source": [
    "T = np.array([[[1,7],[4,5]],[[3,8],[9,2]]])"
   ]
  },
  {
   "cell_type": "markdown",
   "metadata": {},
   "source": [
    "#### Generating Arrays\n",
    "\n",
    "Sometimes it is convenient to generate an array from a formula for the entries. There are several ways we can achieve this is Python. Let's see a few ways to create a 1-D array of the numbers from 1 to 6."
   ]
  },
  {
   "cell_type": "markdown",
   "metadata": {},
   "source": [
    "Using for loops"
   ]
  },
  {
   "cell_type": "code",
   "execution_count": null,
   "metadata": {},
   "outputs": [],
   "source": [
    "x = []\n",
    "for i in range(1,7,1):\n",
    "    x.append(i)"
   ]
  },
  {
   "cell_type": "code",
   "execution_count": null,
   "metadata": {},
   "outputs": [],
   "source": [
    "x"
   ]
  },
  {
   "cell_type": "markdown",
   "metadata": {},
   "source": [
    "Using list comprehension"
   ]
  },
  {
   "cell_type": "code",
   "execution_count": null,
   "metadata": {},
   "outputs": [],
   "source": [
    "squares = [i**2 for i in range(1,7,1)]"
   ]
  },
  {
   "cell_type": "code",
   "execution_count": null,
   "metadata": {},
   "outputs": [],
   "source": [
    "squares"
   ]
  },
  {
   "cell_type": "markdown",
   "metadata": {},
   "source": [
    "#### Map\n",
    "\n",
    "Sometimes we already have an array and we want to apply a function to each element of the array. We can achieve this using map. Let's try mapping the sqrt function over our array of squares."
   ]
  },
  {
   "cell_type": "code",
   "execution_count": null,
   "metadata": {},
   "outputs": [],
   "source": [
    "np.array(list(map(np.sqrt, squares)))"
   ]
  },
  {
   "cell_type": "markdown",
   "metadata": {},
   "source": [
    "#### Vectorized functions\n",
    "\n",
    "In many cases there is an even easier way to apply a function element-wise to elements of an array. Many built-in functions are vectorized, which means that they are automatically applied to each array element without having to use map or other looping commands. For example, sqrt is vectorized so we have a simpler way to apply it to our array."
   ]
  },
  {
   "cell_type": "code",
   "execution_count": null,
   "metadata": {},
   "outputs": [],
   "source": [
    "np.sqrt(squares)"
   ]
  },
  {
   "cell_type": "markdown",
   "metadata": {},
   "source": [
    "#### Extracting parts of arrays\n",
    "\n",
    "We can extract parts of arrays using square brackets [...]. For example, to extract the vector with components $T_{0,1,i}$ for all i=0,1 we could use either of the following"
   ]
  },
  {
   "cell_type": "code",
   "execution_count": null,
   "metadata": {},
   "outputs": [],
   "source": [
    "T[0,1]"
   ]
  },
  {
   "cell_type": "code",
   "execution_count": null,
   "metadata": {},
   "outputs": [],
   "source": [
    "T[0,1,:]"
   ]
  },
  {
   "cell_type": "code",
   "execution_count": null,
   "metadata": {},
   "outputs": [],
   "source": [
    "T[0,1,0:2]"
   ]
  },
  {
   "cell_type": "markdown",
   "metadata": {},
   "source": [
    "There are lots of different ways to specify the parts of an array that we want. For more information see the [numpy documentation](https://numpy.org/doc/stable/reference/arrays.indexing.html)."
   ]
  },
  {
   "cell_type": "markdown",
   "metadata": {},
   "source": [
    "#### Multiplication of arrays\n",
    "\n",
    "When we talk about multiplying arrays (whether they are vectors, matrices or tensors) we can actually mean several different things. The two most important possibilities are:\n",
    "\n",
    "* Standard matrix multiplication. We do this using the \"dot product\", which in Python is given by \"@\"."
   ]
  },
  {
   "cell_type": "code",
   "execution_count": null,
   "metadata": {},
   "outputs": [],
   "source": [
    "A@v"
   ]
  },
  {
   "cell_type": "markdown",
   "metadata": {},
   "source": [
    "* Element-wise multiplication. This is what we get if use times, \"*\"."
   ]
  },
  {
   "cell_type": "code",
   "execution_count": null,
   "metadata": {},
   "outputs": [],
   "source": [
    "A*A"
   ]
  },
  {
   "cell_type": "code",
   "execution_count": null,
   "metadata": {},
   "outputs": [],
   "source": [
    "v*v"
   ]
  },
  {
   "cell_type": "code",
   "execution_count": null,
   "metadata": {},
   "outputs": [],
   "source": [
    "T*T"
   ]
  },
  {
   "cell_type": "markdown",
   "metadata": {},
   "source": [
    "### Dictionaries\n",
    "\n",
    "Another type of object we will find useful is the dict, which we can think of as an array with non-numeric keys for indexing."
   ]
  },
  {
   "cell_type": "markdown",
   "metadata": {},
   "source": [
    "#### Defining dictionaries\n",
    "To define an dictionary we use {\"key\" : val,...}. For example"
   ]
  },
  {
   "cell_type": "code",
   "execution_count": null,
   "metadata": {},
   "outputs": [],
   "source": [
    "dict = {\"key1\": 2, 3: 11, \"keyx\": 7}"
   ]
  },
  {
   "cell_type": "markdown",
   "metadata": {},
   "source": [
    "#### Accessing elements in dictionaries\n",
    "\n",
    "To access a given named element in a dictionary we use single square brackets and the name of the key"
   ]
  },
  {
   "cell_type": "code",
   "execution_count": null,
   "metadata": {},
   "outputs": [],
   "source": [
    "dict[\"keyx\"]"
   ]
  },
  {
   "cell_type": "markdown",
   "metadata": {},
   "source": [
    "## Classes\n",
    "\n",
    "From the Python documentation:\n",
    "> Classes provide a means of bundling data and functionality together. Creating a new class creates a new type of object, allowing new instances of that type to be made. Each class instance can have attributes attached to it for maintaining its state. Class instances can also have methods (defined by its class) for modifying its state.\n",
    "\n",
    "We can use classes to store data along with functions to operate on that data."
   ]
  },
  {
   "cell_type": "markdown",
   "metadata": {},
   "source": [
    "We can define a class by writing \"class\", then the name of the class, then \":\" followed by the definition of the functions in the class. There are certain special functions, most importantly __init__, which is run when an instance of a class is created. Here is a minimal example (we will encounter this again later when studying neural networks):"
   ]
  },
  {
   "cell_type": "code",
   "execution_count": null,
   "metadata": {},
   "outputs": [],
   "source": [
    "class IdentityMatrix(object):\n",
    "\n",
    "    def __init__(self, n,):\n",
    "        \"\"\"The number ``n`` gives the size of the matrix.\"\"\"\n",
    "        self.mat = np.identity(n)\n",
    "\n",
    "    def tr(self):\n",
    "        return np.trace(self.mat)"
   ]
  },
  {
   "cell_type": "markdown",
   "metadata": {},
   "source": [
    "This class has several variables for storing the data associated with the nerual network. Notice that we use \"this\" to access a class's variables."
   ]
  },
  {
   "cell_type": "markdown",
   "metadata": {},
   "source": [
    "We can now create an instance of this class, access its data and run its methods."
   ]
  },
  {
   "cell_type": "code",
   "execution_count": null,
   "metadata": {},
   "outputs": [],
   "source": [
    "I = IdentityMatrix(3)"
   ]
  },
  {
   "cell_type": "code",
   "execution_count": null,
   "metadata": {},
   "outputs": [],
   "source": [
    "I.mat"
   ]
  },
  {
   "cell_type": "code",
   "execution_count": null,
   "metadata": {},
   "outputs": [],
   "source": [
    "I.tr()"
   ]
  }
 ],
 "metadata": {
  "kernelspec": {
   "display_name": "Python 3",
   "language": "python",
   "name": "python3"
  },
  "language_info": {
   "codemirror_mode": {
    "name": "ipython",
    "version": 3
   },
   "file_extension": ".py",
   "mimetype": "text/x-python",
   "name": "python",
   "nbconvert_exporter": "python",
   "pygments_lexer": "ipython3",
   "version": "3.8.5"
  }
 },
 "nbformat": 4,
 "nbformat_minor": 4
}
